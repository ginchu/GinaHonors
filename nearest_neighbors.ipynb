{
 "cells": [
  {
   "cell_type": "markdown",
   "metadata": {},
   "source": [
    "https://www.repository.cam.ac.uk/handle/1810/307452"
   ]
  },
  {
   "cell_type": "markdown",
   "metadata": {},
   "source": [
    "The first time you run this notebook, uncomment and execute the following cell"
   ]
  },
  {
   "cell_type": "code",
   "execution_count": 2,
   "metadata": {},
   "outputs": [],
   "source": [
    "#!wget https://www.repository.cam.ac.uk/bitstream/handle/1810/307452/Carbon_GAP_20.tgz\n",
    "#!tar -xzvf Carbon_GAP_20.tgz"
   ]
  },
  {
   "cell_type": "code",
   "execution_count": 40,
   "metadata": {},
   "outputs": [],
   "source": [
    "from ase.io import iread\n",
    "import torch\n",
    "from torch.utils.data import Dataset\n",
    "from torch.utils.data import DataLoader\n",
    "from scipy.spatial import distance_matrix\n",
    "import numpy as np"
   ]
  },
  {
   "cell_type": "code",
   "execution_count": 3,
   "metadata": {},
   "outputs": [],
   "source": [
    "class MyDataset(Dataset):\n",
    "    def __init__(self):\n",
    "        self.xyz = []\n",
    "        self.E = []\n",
    "        for mol in iread('Carbon_GAP_20/Carbon_GAP_20_Training_Set.xyz'):\n",
    "            self.xyz.append(mol.get_positions())\n",
    "            self.E.append(mol.get_potential_energy())\n",
    "\n",
    "    def __len__(self):\n",
    "        return len(self.E)\n",
    "\n",
    "    def __getitem__(self, idx):\n",
    "        return self.xyz[idx], self.E[idx]"
   ]
  },
  {
   "cell_type": "code",
   "execution_count": 4,
   "metadata": {},
   "outputs": [],
   "source": [
    "dataset = MyDataset()"
   ]
  },
  {
   "cell_type": "code",
   "execution_count": 5,
   "metadata": {},
   "outputs": [],
   "source": [
    "dataloader = DataLoader(dataset)"
   ]
  },
  {
   "cell_type": "markdown",
   "metadata": {},
   "source": [
    "Ideas:\n",
    "<ul>\n",
    "<li> Fully connected graph with distance\n",
    "<li> Partially connected graph with nearest neighbors\n",
    "<li> Enforce rotation and translation invariance before transformation into graph\n",
    "</ul>"
   ]
  },
  {
   "cell_type": "code",
   "execution_count": 194,
   "metadata": {},
   "outputs": [
    {
     "name": "stdout",
     "output_type": "stream",
     "text": [
      "6088\n",
      "2\n",
      "125\n",
      "-767.80938844\n"
     ]
    }
   ],
   "source": [
    "print(len(dataset)) # total number of molecules\n",
    "print(len(dataset[0])) # matrix of both positions and energy\n",
    "print(len(dataset[0][0])) # one molecule's geometry/positions\n",
    "print(dataset[0][1]) # one molecule's potential energy"
   ]
  },
  {
   "cell_type": "code",
   "execution_count": 224,
   "metadata": {},
   "outputs": [],
   "source": [
    "# assumes g is in m so the first closest neighbor is excluded\n",
    "# returns both list of nearest neighbors and their distances\n",
    "def nearest_neighbors(g, m, k):\n",
    "    '''\n",
    "        g --> (3) one coordinate used as reference point\n",
    "        m --> (x,3) whole molecule geometry \n",
    "        k --> (1) number of nearest neighbors to be found\n",
    "    '''\n",
    "    if k >= len(m):\n",
    "        print(\"Error: there are not enough points for desired number of neighbors.\")\n",
    "        print(\"Choose a different number less than \"+str(len(m))+\".\")\n",
    "        return None\n",
    "    \n",
    "    dist = distance_matrix([g], m)\n",
    "    indices = np.argpartition(dist[0], range(k+1))[1:k+1] #(k)[:k] to include first closest neighbor\n",
    "    k_nearest = []\n",
    "    k_dist = []\n",
    "    for idx in indices:\n",
    "        k_nearest.append(m[idx])\n",
    "        k_dist.append(dist[0][idx])\n",
    "    return k_nearest, k_dist"
   ]
  },
  {
   "cell_type": "code",
   "execution_count": 225,
   "metadata": {},
   "outputs": [
    {
     "data": {
      "text/plain": [
       "array([5.72412807, 0.58084565, 0.61387452])"
      ]
     },
     "execution_count": 225,
     "metadata": {},
     "output_type": "execute_result"
    }
   ],
   "source": [
    "test = dataset[5][0]\n",
    "test[0]"
   ]
  },
  {
   "cell_type": "code",
   "execution_count": 226,
   "metadata": {},
   "outputs": [
    {
     "data": {
      "text/plain": [
       "([array([4.91289125, 0.58084565, 1.84162356]),\n",
       "  array([6.69513208, 1.74253626, 0.61387452]),\n",
       "  array([3.54733216, 0.58084565, 1.84162356]),\n",
       "  array([7.09853279, 2.30838331, 1.84162356]),\n",
       "  array([2.81099357, 0.58084565, 0.61387452])],\n",
       " [1.471554580484405,\n",
       "  1.514058737565439,\n",
       "  2.499161487181981,\n",
       "  2.5260131445219116,\n",
       "  2.9131345])"
      ]
     },
     "execution_count": 226,
     "metadata": {},
     "output_type": "execute_result"
    }
   ],
   "source": [
    "nearest_neighbors(test[0], test, 5)"
   ]
  },
  {
   "cell_type": "code",
   "execution_count": null,
   "metadata": {},
   "outputs": [],
   "source": []
  }
 ],
 "metadata": {
  "kernelspec": {
   "display_name": "Python 3",
   "language": "python",
   "name": "python3"
  },
  "language_info": {
   "codemirror_mode": {
    "name": "ipython",
    "version": 3
   },
   "file_extension": ".py",
   "mimetype": "text/x-python",
   "name": "python",
   "nbconvert_exporter": "python",
   "pygments_lexer": "ipython3",
   "version": "3.8.6"
  }
 },
 "nbformat": 4,
 "nbformat_minor": 4
}
