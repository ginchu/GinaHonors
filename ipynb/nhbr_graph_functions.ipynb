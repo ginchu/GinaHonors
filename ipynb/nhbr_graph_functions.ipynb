{
 "cells": [
  {
   "cell_type": "markdown",
   "metadata": {},
   "source": [
    "https://www.repository.cam.ac.uk/handle/1810/307452"
   ]
  },
  {
   "cell_type": "markdown",
   "metadata": {},
   "source": [
    "The first time you run this notebook, uncomment and execute the following cell"
   ]
  },
  {
   "cell_type": "code",
   "execution_count": null,
   "metadata": {},
   "outputs": [],
   "source": [
    "#!wget https://www.repository.cam.ac.uk/bitstream/handle/1810/307452/Carbon_GAP_20.tgz\n",
    "#!tar -xzvf Carbon_GAP_20.tgz"
   ]
  },
  {
   "cell_type": "code",
   "execution_count": 18,
   "metadata": {},
   "outputs": [],
   "source": [
    "from ase.io import iread\n",
    "import torch\n",
    "from torch.utils.data import Dataset\n",
    "from torch.utils.data import DataLoader\n",
    "from scipy.spatial import distance_matrix\n",
    "import numpy as np\n",
    "import dgl\n",
    "from ase.calculators.mopac import MOPAC\n",
    "from ase import Atoms"
   ]
  },
  {
   "cell_type": "code",
   "execution_count": 2,
   "metadata": {},
   "outputs": [],
   "source": [
    "class MyDataset(Dataset):\n",
    "    def __init__(self):\n",
    "        self.xyz = []\n",
    "        self.E = []\n",
    "        for mol in iread('Carbon_GAP_20/Carbon_GAP_20_Training_Set.xyz'):\n",
    "            self.xyz.append(mol.get_positions())\n",
    "            self.E.append(mol.get_potential_energy())\n",
    "\n",
    "    def __len__(self):\n",
    "        return len(self.E)\n",
    "\n",
    "    def __getitem__(self, idx):\n",
    "        return self.xyz[idx], self.E[idx]"
   ]
  },
  {
   "cell_type": "code",
   "execution_count": 3,
   "metadata": {},
   "outputs": [],
   "source": [
    "dataset = MyDataset()"
   ]
  },
  {
   "cell_type": "code",
   "execution_count": 4,
   "metadata": {},
   "outputs": [],
   "source": [
    "dataloader = DataLoader(dataset)"
   ]
  },
  {
   "cell_type": "markdown",
   "metadata": {},
   "source": [
    "Ideas:\n",
    "<ul>\n",
    "<li> Fully connected graph with distance\n",
    "<li> Partially connected graph with nearest neighbors\n",
    "<li> Enforce rotation and translation invariance before transformation into graph\n",
    "</ul>"
   ]
  },
  {
   "cell_type": "code",
   "execution_count": 5,
   "metadata": {},
   "outputs": [
    {
     "name": "stdout",
     "output_type": "stream",
     "text": [
      "6088\n",
      "2\n",
      "125\n",
      "-767.80938844\n"
     ]
    }
   ],
   "source": [
    "print(len(dataset)) # total number of molecules\n",
    "print(len(dataset[0])) # matrix of both positions and energy\n",
    "print(len(dataset[0][0])) # one molecule's geometry/positions\n",
    "print(dataset[0][1]) # one molecule's potential energy"
   ]
  },
  {
   "cell_type": "code",
   "execution_count": 115,
   "metadata": {},
   "outputs": [],
   "source": [
    "def nearest_neighbors(g, m, k):\n",
    "    '''\n",
    "        g --> (3) one coordinate used as reference point\n",
    "        m --> (x,3) whole molecule geometry\n",
    "        k --> (1) number of nearest neighbors to be found\n",
    "        - assumes g is in m so the first closest neighbor is excluded\n",
    "        - calculates the actual neighbors, the distances, and their indices in the list of atoms\n",
    "    '''\n",
    "    if k >= len(m):\n",
    "        #print(\"Error: there are not enough points for desired number of neighbors.\")\n",
    "        #print(\"Choose a different number less than \"+str(len(m))+\".\")\n",
    "        #return None\n",
    "        k = len(m)-1\n",
    "        \n",
    "    dist = distance_matrix([g], m)\n",
    "    if len(m)==1:\n",
    "    # if single atom, itself will be its neighbor\n",
    "        k = 1\n",
    "        indices = np.argpartition(dist[0], range(k))[:k] \n",
    "    else:\n",
    "        indices = np.argpartition(dist[0], range(k+1))[1:k+1] # excludes first closest neighbor (itself)\n",
    "    k_nearest = []\n",
    "    k_dist = []\n",
    "    for idx in indices:\n",
    "        k_nearest.append(m[idx])\n",
    "        k_dist.append(dist[0][idx])\n",
    "    return k_nearest, k_dist, indices"
   ]
  },
  {
   "cell_type": "code",
   "execution_count": 134,
   "metadata": {},
   "outputs": [
    {
     "data": {
      "text/plain": [
       "(array([[5.710166  , 3.72909598, 3.32131804],\n",
       "        [2.59837204, 5.030634  , 5.14362803],\n",
       "        [3.67931201, 5.00652601, 5.97878404],\n",
       "        [4.64755196, 5.78209798, 5.40881598],\n",
       "        [5.72378796, 5.005056  , 5.11942199],\n",
       "        [4.18371803, 3.73948396, 6.05522397],\n",
       "        [5.43625597, 3.72625402, 5.51759601],\n",
       "        [5.43449202, 2.95127001, 4.39863198],\n",
       "        [2.44999998, 3.747324  , 4.70370603],\n",
       "        [3.41804403, 2.94842796, 5.25417204],\n",
       "        [4.17019398, 2.44999997, 4.23193401],\n",
       "        [2.92843597, 5.00858398, 2.98782404],\n",
       "        [2.64021803, 3.72850802, 3.36169404],\n",
       "        [3.694796  , 2.9204    , 3.04760403],\n",
       "        [4.94958802, 5.81051802, 3.23115799],\n",
       "        [4.18381602, 5.00740799, 2.45000003],\n",
       "        [4.63353803, 3.72066798, 2.48214399],\n",
       "        [5.90401002, 5.00280199, 3.77643002],\n",
       "        [2.90246602, 5.83188203, 4.0768    ],\n",
       "        [4.16245198, 6.30581003, 4.23281601]]),\n",
       " -130.06626593)"
      ]
     },
     "execution_count": 134,
     "metadata": {},
     "output_type": "execute_result"
    }
   ],
   "source": [
    "test = dataset[3]\n",
    "test"
   ]
  },
  {
   "cell_type": "code",
   "execution_count": 118,
   "metadata": {},
   "outputs": [
    {
     "data": {
      "text/plain": [
       "([array([5.43449202, 2.95127001, 4.39863198]),\n",
       "  array([4.63353803, 3.72066798, 2.48214399]),\n",
       "  array([5.90401002, 5.00280199, 3.77643002]),\n",
       "  array([4.18381602, 5.00740799, 2.45000003]),\n",
       "  array([3.694796  , 2.9204    , 3.04760403])],\n",
       " [1.3570610554333233,\n",
       "  1.365068460980519,\n",
       "  1.36639284919799,\n",
       "  2.1732512351098756,\n",
       "  2.1887495937723074],\n",
       " array([ 7, 16, 17, 15, 13]))"
      ]
     },
     "execution_count": 118,
     "metadata": {},
     "output_type": "execute_result"
    }
   ],
   "source": [
    "nearest_neighbors(test[0], test, 5)"
   ]
  },
  {
   "cell_type": "code",
   "execution_count": 119,
   "metadata": {},
   "outputs": [],
   "source": [
    "# g1 = [0,1,0]\n",
    "# g2 = [[0,4,0],[0,1,0],[0,6,0],[0,3,0],[0,2,0],[0,5,0]]\n",
    "# nearest_neighbors(g1,g2,3)"
   ]
  },
  {
   "cell_type": "code",
   "execution_count": 120,
   "metadata": {},
   "outputs": [],
   "source": [
    "def xyz_to_graph(molecule, k, node_featurizer, edge_featurizer):\n",
    "    '''\n",
    "        molecule --> (x,3) whole molecule geometry\n",
    "        k --> (1) number of nearest neighbors to be found\n",
    "        - creates a graph of the molecule where each atom is connected to its k nearest neighbors\n",
    "        - featurizes the nodes with the energy?? and the edges with distance\n",
    "    '''    \n",
    "    c = Atoms('C', positions=[[0, 0, 0]])\n",
    "    c.calc = MOPAC(label='C', task='PM7 1SCF UHF')\n",
    "    energy = c.get_potential_energy()\n",
    "    \n",
    "    src = []\n",
    "    dest = []\n",
    "    ndist = []\n",
    "    c_e = []\n",
    "    for atom in range(len(molecule)):\n",
    "        nbhd, dist, idx = nearest_neighbors(molecule[atom], molecule, k)\n",
    "        c_e.append(energy) \n",
    "        for i in range(len(nbhd)):\n",
    "            src.append(atom)\n",
    "            dest.append(idx[i])\n",
    "            ndist.append(dist[i])\n",
    "    g = dgl.graph((torch.tensor(src), torch.tensor(dest)))\n",
    "    \n",
    "    if node_featurizer is True:\n",
    "        g.ndata.update({'energy': torch.tensor(c_e)})\n",
    "\n",
    "    if edge_featurizer is True:\n",
    "        g.edata.update({'length': torch.tensor(ndist)})\n",
    "    \n",
    "    return g"
   ]
  },
  {
   "cell_type": "code",
   "execution_count": 121,
   "metadata": {},
   "outputs": [
    {
     "data": {
      "text/plain": [
       "Graph(num_nodes=20, num_edges=60,\n",
       "      ndata_schemes={'energy': Scheme(shape=(), dtype=torch.float32)}\n",
       "      edata_schemes={'length': Scheme(shape=(), dtype=torch.float64)})"
      ]
     },
     "execution_count": 121,
     "metadata": {},
     "output_type": "execute_result"
    }
   ],
   "source": [
    "g = xyz_to_graph(test, 3, node_featurizer=True, edge_featurizer=True)\n",
    "g"
   ]
  },
  {
   "cell_type": "code",
   "execution_count": 122,
   "metadata": {},
   "outputs": [
    {
     "data": {
      "text/plain": [
       "{'length': tensor([1.3571, 1.3651, 1.3664, 1.3647, 1.3662, 1.3684, 1.3652, 1.3659, 1.3662,\n",
       "        1.3586, 1.3652, 1.3757, 1.3550, 1.3586, 1.3699, 1.3615, 1.3631, 1.3659,\n",
       "        1.3611, 1.3631, 1.3699, 1.3571, 1.3611, 1.3702, 1.3556, 1.3647, 1.3705,\n",
       "        1.3615, 1.3635, 1.3705, 1.3601, 1.3635, 1.3702, 1.3643, 1.3654, 1.3657,\n",
       "        1.3556, 1.3643, 1.3652, 1.3570, 1.3601, 1.3652, 1.3571, 1.3641, 1.3668,\n",
       "        1.3571, 1.3634, 1.3657, 1.3570, 1.3634, 1.3651, 1.3550, 1.3641, 1.3664,\n",
       "        1.3552, 1.3654, 1.3684, 1.3552, 1.3668, 1.3757], dtype=torch.float64)}"
      ]
     },
     "execution_count": 122,
     "metadata": {},
     "output_type": "execute_result"
    }
   ],
   "source": [
    "g.edata"
   ]
  },
  {
   "cell_type": "code",
   "execution_count": 123,
   "metadata": {},
   "outputs": [
    {
     "data": {
      "text/plain": [
       "{'energy': tensor([-115.1573, -115.1573, -115.1573, -115.1573, -115.1573, -115.1573,\n",
       "        -115.1573, -115.1573, -115.1573, -115.1573, -115.1573, -115.1573,\n",
       "        -115.1573, -115.1573, -115.1573, -115.1573, -115.1573, -115.1573,\n",
       "        -115.1573, -115.1573])}"
      ]
     },
     "execution_count": 123,
     "metadata": {},
     "output_type": "execute_result"
    }
   ],
   "source": [
    "g.ndata"
   ]
  },
  {
   "cell_type": "code",
   "execution_count": 18,
   "metadata": {},
   "outputs": [],
   "source": [
    "# check with dummy example\n",
    "# potential energy\n",
    "# see what software caarbon gap paper uses to compute"
   ]
  },
  {
   "cell_type": "code",
   "execution_count": null,
   "metadata": {},
   "outputs": [],
   "source": [
    "# create torch dataset like in class\n",
    "# choose neural net (one round of mpnn and mlp predictor hw8 network) and train (use cs machine and wandb)\n",
    "# read paper more throughly, what they do and what they look at with this dataset"
   ]
  },
  {
   "cell_type": "code",
   "execution_count": null,
   "metadata": {},
   "outputs": [],
   "source": [
    "# dataset[4782][0] is a single point"
   ]
  },
  {
   "cell_type": "code",
   "execution_count": null,
   "metadata": {},
   "outputs": [],
   "source": []
  }
 ],
 "metadata": {
  "kernelspec": {
   "display_name": "Python 3",
   "language": "python",
   "name": "python3"
  },
  "language_info": {
   "codemirror_mode": {
    "name": "ipython",
    "version": 3
   },
   "file_extension": ".py",
   "mimetype": "text/x-python",
   "name": "python",
   "nbconvert_exporter": "python",
   "pygments_lexer": "ipython3",
   "version": "3.8.6"
  }
 },
 "nbformat": 4,
 "nbformat_minor": 4
}
