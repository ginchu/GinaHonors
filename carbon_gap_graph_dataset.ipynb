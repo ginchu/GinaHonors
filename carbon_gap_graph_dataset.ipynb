{
 "cells": [
  {
   "cell_type": "markdown",
   "metadata": {},
   "source": [
    "https://www.repository.cam.ac.uk/handle/1810/307452"
   ]
  },
  {
   "cell_type": "markdown",
   "metadata": {},
   "source": [
    "The first time you run this notebook, uncomment and execute the following cell"
   ]
  },
  {
   "cell_type": "code",
   "execution_count": null,
   "metadata": {},
   "outputs": [],
   "source": [
    "#!wget https://www.repository.cam.ac.uk/bitstream/handle/1810/307452/Carbon_GAP_20.tgz\n",
    "#!tar -xzvf Carbon_GAP_20.tgz"
   ]
  },
  {
   "cell_type": "code",
   "execution_count": 18,
   "metadata": {},
   "outputs": [],
   "source": [
    "from ase.io import iread\n",
    "import torch\n",
    "from torch.utils.data import Dataset\n",
    "from torch.utils.data import DataLoader\n",
    "from scipy.spatial import distance_matrix\n",
    "import numpy as np\n",
    "import dgl\n",
    "from ase.calculators.mopac import MOPAC\n",
    "from ase import Atoms"
   ]
  },
  {
   "cell_type": "code",
   "execution_count": 18,
   "metadata": {},
   "outputs": [],
   "source": [
    "# check with dummy example\n",
    "# potential energy\n",
    "# see what software caarbon gap paper uses to compute"
   ]
  },
  {
   "cell_type": "code",
   "execution_count": null,
   "metadata": {},
   "outputs": [],
   "source": [
    "# create torch dataset like in class\n",
    "# choose neural net (one round of mpnn and mlp predictor hw8 network) and train (use cs machine and wandb)\n",
    "# read paper more throughly, what they do and what they look at with this dataset"
   ]
  },
  {
   "cell_type": "code",
   "execution_count": null,
   "metadata": {},
   "outputs": [],
   "source": [
    "# dataset[4782][0] is a single point"
   ]
  },
  {
   "cell_type": "code",
   "execution_count": 128,
   "metadata": {},
   "outputs": [],
   "source": [
    "class GraphDataset(Dataset):\n",
    "    def __init__(self):\n",
    "        self.xyz = []\n",
    "        self.E = []\n",
    "        self.graph = []\n",
    "        for mol in iread('Carbon_GAP_20/Carbon_GAP_20_Training_Set.xyz'):\n",
    "            self.xyz.append(mol.get_positions())\n",
    "            self.E.append(mol.get_potential_energy())\n",
    "    \n",
    "    def nearest_neighbors(self, g, m, k):\n",
    "        '''\n",
    "            g --> (3) one coordinate used as reference point\n",
    "            m --> (x,3) whole molecule geometry\n",
    "            k --> (1) number of nearest neighbors to be found\n",
    "            - assumes g is in m so the first closest neighbor is excluded\n",
    "            - takes the max amount of neighbors if k is greater than total atoms in a molecule\n",
    "            - if a molecule is also a single atom, it will be its own neighbor\n",
    "            - calculates the actual neighbors, the distances, and their indices in the list of atoms\n",
    "        '''\n",
    "        if k >= len(m):\n",
    "            k = len(m)-1\n",
    "        \n",
    "        dist = distance_matrix([g], m)\n",
    "        \n",
    "        if len(m)==1:\n",
    "        # if single atom, itself will be its neighbor\n",
    "            k = 1\n",
    "            indices = np.argpartition(dist[0], range(k))[:k] \n",
    "        else:\n",
    "            indices = np.argpartition(dist[0], range(k+1))[1:k+1] # excludes first closest neighbor (itself)\n",
    "        \n",
    "        k_nearest = []\n",
    "        k_dist = []\n",
    "        for idx in indices:\n",
    "            k_nearest.append(m[idx])\n",
    "            k_dist.append(dist[0][idx])\n",
    "        return k_nearest, k_dist, indices\n",
    "\n",
    "    def featurize_atoms(self, molecule):\n",
    "    # featurize atoms\n",
    "        c = Atoms('C', positions=[[0, 0, 0]])\n",
    "        c.calc = MOPAC(label='C', task='PM7 1SCF UHF')\n",
    "        energy = c.get_potential_energy()\n",
    "        \n",
    "        c_e = []\n",
    "        for atom in range(len(molecule)):\n",
    "            c_e.append(energy)\n",
    "        return {'energy': torch.tensor(c_e)}\n",
    "    \n",
    "    def xyz_to_graph(self, molecule, k, node_featurizer, edge_featurizer):\n",
    "        '''\n",
    "            molecule --> (x,3) whole molecule geometry\n",
    "            k --> (1) number of nearest neighbors to be found\n",
    "            - creates a graph of the molecule where each atom is connected to its k nearest neighbors\n",
    "            - featurizes the nodes with the energy and the edges with distance\n",
    "        '''    \n",
    "        src = []\n",
    "        dest = []\n",
    "        ndist = []\n",
    "        for atom in range(len(molecule)):\n",
    "            nbhd, dist, idx = self.nearest_neighbors(molecule[atom], molecule, k)\n",
    "            for i in range(len(nbhd)):\n",
    "                src.append(atom)\n",
    "                dest.append(idx[i])\n",
    "                ndist.append(dist[i])\n",
    "        g = dgl.graph((torch.tensor(src), torch.tensor(dest)))\n",
    "\n",
    "        if node_featurizer is not None:\n",
    "            g.ndata.update(node_featurizer(molecule))\n",
    "\n",
    "        if edge_featurizer is True:\n",
    "            g.edata.update({'length': torch.tensor(ndist)})\n",
    "\n",
    "        return g\n",
    "    \n",
    "    def process(self, k):\n",
    "    # make graph for each molecule\n",
    "        tmp = []\n",
    "        counter=0\n",
    "        for xyz in self.xyz:\n",
    "            if counter%1000 == 0:\n",
    "                print(counter)\n",
    "            counter+=1\n",
    "            tmp.append(self.xyz_to_graph(xyz, k, node_featurizer=self.featurize_atoms, edge_featurizer=True))\n",
    "        self.graph = tmp\n",
    "         \n",
    "    def __len__(self):\n",
    "        return len(self.E)\n",
    "\n",
    "    def __getitem__(self, idx):\n",
    "        return self.graph[idx], self.E[idx]"
   ]
  },
  {
   "cell_type": "code",
   "execution_count": 129,
   "metadata": {},
   "outputs": [],
   "source": [
    "graph_dataset = GraphDataset()"
   ]
  },
  {
   "cell_type": "code",
   "execution_count": 130,
   "metadata": {},
   "outputs": [
    {
     "name": "stdout",
     "output_type": "stream",
     "text": [
      "0\n",
      "100\n",
      "200\n",
      "300\n",
      "400\n",
      "500\n",
      "600\n",
      "700\n",
      "800\n",
      "900\n",
      "1000\n",
      "1100\n",
      "1200\n",
      "1300\n",
      "1400\n",
      "1500\n",
      "1600\n",
      "1700\n",
      "1800\n",
      "1900\n",
      "2000\n",
      "2100\n",
      "2200\n",
      "2300\n",
      "2400\n",
      "2500\n",
      "2600\n",
      "2700\n",
      "2800\n",
      "2900\n",
      "3000\n",
      "3100\n",
      "3200\n",
      "3300\n",
      "3400\n",
      "3500\n",
      "3600\n",
      "3700\n",
      "3800\n",
      "3900\n",
      "4000\n",
      "4100\n",
      "4200\n",
      "4300\n",
      "4400\n",
      "4500\n",
      "4600\n",
      "4700\n",
      "4800\n",
      "4900\n",
      "5000\n",
      "5100\n",
      "5200\n",
      "5300\n",
      "5400\n",
      "5500\n",
      "5600\n",
      "5700\n",
      "5800\n",
      "5900\n",
      "6000\n"
     ]
    }
   ],
   "source": [
    "graph_dataset.process(3)"
   ]
  },
  {
   "cell_type": "code",
   "execution_count": 139,
   "metadata": {},
   "outputs": [
    {
     "data": {
      "text/plain": [
       "(Graph(num_nodes=20, num_edges=60,\n",
       "       ndata_schemes={'energy': Scheme(shape=(), dtype=torch.float32)}\n",
       "       edata_schemes={'length': Scheme(shape=(), dtype=torch.float64)}),\n",
       " -130.06626593)"
      ]
     },
     "execution_count": 139,
     "metadata": {},
     "output_type": "execute_result"
    }
   ],
   "source": [
    "graph_dataset[3]"
   ]
  },
  {
   "cell_type": "code",
   "execution_count": null,
   "metadata": {},
   "outputs": [],
   "source": []
  }
 ],
 "metadata": {
  "kernelspec": {
   "display_name": "Python 3",
   "language": "python",
   "name": "python3"
  },
  "language_info": {
   "codemirror_mode": {
    "name": "ipython",
    "version": 3
   },
   "file_extension": ".py",
   "mimetype": "text/x-python",
   "name": "python",
   "nbconvert_exporter": "python",
   "pygments_lexer": "ipython3",
   "version": "3.8.6"
  }
 },
 "nbformat": 4,
 "nbformat_minor": 4
}
